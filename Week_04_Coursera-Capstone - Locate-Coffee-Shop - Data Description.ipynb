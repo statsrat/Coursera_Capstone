{
 "cells": [
  {
   "cell_type": "markdown",
   "metadata": {},
   "source": [
    "# Find the Best Location for a new Coffee Shop in Mount Pleasant, SC\n",
    "# Introduction\n",
    "Several coffee shop options exist for residents of Mount Pleasant, SC including well known coffee franchise shops to single-store coffee shops.  Coffee consumers in Mount Pleasant include those looking for a quick cup of coffee \"on the go\" to those who want a location to conduct business (w/wifi) while enjoying a good cup of coffee.  Since so many coffee consumers exist in Mount Pleasant, this project involves identification of potential new locations that current or new coffee shop owners might consider for attracting more coffee consumers. \n",
    "# Business Problem\n",
    "Finding the best location for new coffee shop in Mount Pleasant, the fourth largest city in SC (by population of approximately 95,000 people) is based on several factors. Mount Pleasant has over 175 neighborhoods within the vicinity of essentially two major thoroughfares, Highway 17 and Coleman Boulevard. Both the neighborhoods of Mount Pleasant and access are different regarding factors that can directly or indirectly affect business success. For example, many businesses along Highway 17 are only accessible from offroads that parallell Highway 17 in both directions. For Coleman Boulevard, businesses along this stretch may have parking limitations. To make an informed decision for the best location(s) for a new coffee shop, it is essential to evaluate the neighborhoods, accessibiity, demand, and the current competitors. Lease costs also need to be considered, especially for small businesses.\n",
    "\n",
    "For this project, the goal is to help a client find the best location(s) in Mount Pleasant to open a new coffee shop. Servicing coffee consumers, whether \"on the go\" or dining in near their neighborhoods or that have ease of accessibility, have fewer competitors, and is affordable will improve the client's chances for success. A coffee shop that can serve customers during the morning rush or those who need an offsite place to work will have better chances to succeed. Also, locating in areas with fewer competitors will reduce risks and improve sales in order for the client to start and grow the business."
   ]
  },
  {
   "cell_type": "markdown",
   "metadata": {},
   "source": [
    "# Data Description\n",
    "Several data sources and tools will be needed to conduct the analysis of best location(s) for a new coffee shop in Mount Pleasant, SC.  These include:\n",
    "\n",
    "- BeautifulSoup will be used with a Charleston real estate website to extract the neighborhoods:\n",
    "https://www.buyingcharlestonrealestate.com/mount-pleasant-neighborhoods.php\n",
    "\n",
    "- Geopy will be used to determine the coordinates of the negihborhoods.\n",
    "\n",
    "- Foursquare will be used to identify and quantify existing coffeeshops in proximity to the neighborhoods; these results will be used later to prioritize which neighborhoods are least to best served (leased served will influence potential locations).\n",
    "\n"
   ]
  },
  {
   "cell_type": "code",
   "execution_count": null,
   "metadata": {},
   "outputs": [],
   "source": []
  }
 ],
 "metadata": {
  "kernelspec": {
   "display_name": "Python 3",
   "language": "python",
   "name": "python3"
  },
  "language_info": {
   "codemirror_mode": {
    "name": "ipython",
    "version": 3
   },
   "file_extension": ".py",
   "mimetype": "text/x-python",
   "name": "python",
   "nbconvert_exporter": "python",
   "pygments_lexer": "ipython3",
   "version": "3.7.4"
  }
 },
 "nbformat": 4,
 "nbformat_minor": 2
}
